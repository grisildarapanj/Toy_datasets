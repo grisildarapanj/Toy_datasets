{
 "cells": [
  {
   "cell_type": "markdown",
   "metadata": {},
   "source": [
    "## Importing "
   ]
  },
  {
   "cell_type": "code",
   "execution_count": 1,
   "metadata": {
    "ExecuteTime": {
     "end_time": "2020-11-19T07:39:42.662974Z",
     "start_time": "2020-11-19T07:39:40.963449Z"
    }
   },
   "outputs": [],
   "source": [
    "# importing\n",
    "import psutil\n",
    "import pandas as pd\n",
    "import numpy as np\n",
    "# from pandas_profiling import ProfileReport\n",
    "from matplotlib import pyplot\n",
    "import matplotlib.pyplot as plt\n",
    "plt.figure(num=None, figsize=(10, 8), dpi=80, facecolor='w', edgecolor='k')\n",
    "import seaborn as sns; sns.set() # for plot styling\n",
    "from pandas.plotting import scatter_matrix\n",
    "import plotly.express as px\n",
    "import matplotlib.pyplot as plt\n",
    "%matplotlib inline\n",
    "from sklearn import preprocessing\n",
    "\n",
    "import seaborn as sns\n",
    "import warnings\n",
    "import plotly.graph_objects as go\n",
    "\n",
    "from sklearn.preprocessing import StandardScaler\n",
    "from sklearn.cluster import KMeans\n",
    "from sklearn.metrics import silhouette_score\n",
    "import csv\n",
    "warnings.filterwarnings('ignore')"
   ]
  },
  {
   "cell_type": "markdown",
   "metadata": {},
   "source": [
    "## Read file of October"
   ]
  },
  {
   "cell_type": "code",
   "execution_count": 2,
   "metadata": {
    "ExecuteTime": {
     "end_time": "2020-11-19T07:39:48.613969Z",
     "start_time": "2020-11-19T07:39:42.665516Z"
    }
   },
   "outputs": [],
   "source": [
    "\n",
    "svmem = psutil.virtual_memory()\n",
    "# print (svmem.available)\n",
    "PATH = r\"archive/2019-Oct.csv\"\n",
    "df_sample = pd.read_csv(PATH, nrows=10)\n",
    "df_sample_size = df_sample.memory_usage(index=True).sum()\n",
    "# print (df_sample_size)\n",
    "# print (df_sample)\n",
    "# define a chunksize that would occupy a maximum of 1Gb\n",
    "# we divide by 10 because we have selected 10 lines in our df_sample\n",
    "my_chunk = (1000000000 / df_sample_size)/10\n",
    "my_chunk = int(my_chunk//1) # we get the integer part\n",
    "# print (my_chunk)\n",
    "# create the iterator\n",
    "iter_csv = pd.read_csv(\n",
    "    PATH,\n",
    "    iterator=True,\n",
    "    chunksize=my_chunk)\n",
    "# concatenate according to a filter to our result dataframe\n",
    "df_oct = pd.concat(\n",
    "    [chunk[chunk['price']>0]\n",
    "    for chunk in iter_csv])\n",
    "# print (df_oct)"
   ]
  },
  {
   "cell_type": "code",
   "execution_count": 3,
   "metadata": {
    "ExecuteTime": {
     "end_time": "2020-11-19T07:39:49.689162Z",
     "start_time": "2020-11-19T07:39:48.617296Z"
    }
   },
   "outputs": [],
   "source": [
    "# drop the missing values in user_session since there aren't too many values\n",
    "df_oct = df_oct.drop(df_oct[df_oct.user_session.isnull()].index)"
   ]
  },
  {
   "cell_type": "code",
   "execution_count": 4,
   "metadata": {
    "ExecuteTime": {
     "end_time": "2020-11-19T07:40:15.305260Z",
     "start_time": "2020-11-19T07:39:49.690750Z"
    }
   },
   "outputs": [],
   "source": [
    "# convert event_time to datetime\n",
    "df_oct['event_time'] = pd.to_datetime(df_oct['event_time'], \n",
    "                                       format='%Y-%m-%d %H:%M:%S %Z')"
   ]
  },
  {
   "cell_type": "code",
   "execution_count": 5,
   "metadata": {
    "ExecuteTime": {
     "end_time": "2020-11-19T07:40:15.416882Z",
     "start_time": "2020-11-19T07:40:15.307791Z"
    }
   },
   "outputs": [],
   "source": [
    "# drop the columns\n",
    "# df_oct = df_oct.drop(['product_id','category_id','category_code','brand','user_session'])\n",
    "df_oct.drop(['product_id','category_id','category_code','brand','user_session'], axis='columns', inplace=True)"
   ]
  },
  {
   "cell_type": "markdown",
   "metadata": {},
   "source": [
    "## Read file of November"
   ]
  },
  {
   "cell_type": "code",
   "execution_count": 7,
   "metadata": {
    "ExecuteTime": {
     "end_time": "2020-11-19T07:40:21.547024Z",
     "start_time": "2020-11-19T07:40:15.432122Z"
    }
   },
   "outputs": [],
   "source": [
    "\n",
    "svmem = psutil.virtual_memory()\n",
    "# print (svmem.available)\n",
    "PATH = r\"archive/2019-Nov.csv\"\n",
    "df_sample = pd.read_csv(PATH, nrows=10)\n",
    "df_sample_size = df_sample.memory_usage(index=True).sum()\n",
    "# print (df_sample_size)\n",
    "# print (df_sample)\n",
    "# define a chunksize that would occupy a maximum of 1Gb\n",
    "# we divide by 10 because we have selected 10 lines in our df_sample\n",
    "my_chunk = (1000000000 / df_sample_size)/10\n",
    "my_chunk = int(my_chunk//1) # we get the integer part\n",
    "# print (my_chunk)\n",
    "# create the iterator\n",
    "iter_csv = pd.read_csv(\n",
    "    PATH,\n",
    "    iterator=True,\n",
    "    chunksize=my_chunk)\n",
    "# concatenate according to a filter to our result dataframe\n",
    "df_nov = pd.concat(\n",
    "    [chunk[chunk['price']>0]\n",
    "    for chunk in iter_csv])\n",
    "# print (df_nov)"
   ]
  },
  {
   "cell_type": "code",
   "execution_count": 8,
   "metadata": {
    "ExecuteTime": {
     "end_time": "2020-11-19T07:40:22.610324Z",
     "start_time": "2020-11-19T07:40:21.549696Z"
    }
   },
   "outputs": [],
   "source": [
    "# drop the missing values in user_session since there aren't too many values\n",
    "df_nov = df_nov.drop(df_nov[df_nov.user_session.isnull()].index)"
   ]
  },
  {
   "cell_type": "code",
   "execution_count": 9,
   "metadata": {
    "ExecuteTime": {
     "end_time": "2020-11-19T07:41:23.487876Z",
     "start_time": "2020-11-19T07:40:22.611684Z"
    }
   },
   "outputs": [],
   "source": [
    "# convert event_time to datetime\n",
    "df_nov['event_time'] = pd.to_datetime(df_nov['event_time'], \n",
    "                                       format='%Y-%m-%d %H:%M:%S %Z')"
   ]
  },
  {
   "cell_type": "code",
   "execution_count": 10,
   "metadata": {
    "ExecuteTime": {
     "end_time": "2020-11-19T07:41:23.587419Z",
     "start_time": "2020-11-19T07:41:23.490234Z"
    }
   },
   "outputs": [],
   "source": [
    "# drop the columns\n",
    "# df_oct = df_oct.drop(['product_id','category_id','category_code','brand','user_session'])\n",
    "df_nov.drop(['product_id','category_id','category_code','brand','user_session'], axis='columns', inplace=True)"
   ]
  },
  {
   "cell_type": "markdown",
   "metadata": {},
   "source": [
    "## Read file of December"
   ]
  },
  {
   "cell_type": "code",
   "execution_count": 145,
   "metadata": {
    "ExecuteTime": {
     "end_time": "2020-11-19T08:42:24.687589Z",
     "start_time": "2020-11-19T08:42:20.760261Z"
    }
   },
   "outputs": [],
   "source": [
    "\n",
    "svmem = psutil.virtual_memory()\n",
    "# print (svmem.available)\n",
    "PATH = r\"archive/2019-Dec.csv\"\n",
    "df_sample = pd.read_csv(PATH, nrows=10)\n",
    "df_sample_size = df_sample.memory_usage(index=True).sum()\n",
    "# print (df_sample_size)\n",
    "# print (df_sample)\n",
    "# define a chunksize that would occupy a maximum of 1Gb\n",
    "# we divide by 10 because we have selected 10 lines in our df_sample\n",
    "my_chunk = (1000000000 / df_sample_size)/10\n",
    "my_chunk = int(my_chunk//1) # we get the integer part\n",
    "# print (my_chunk)\n",
    "# create the iterator\n",
    "iter_csv = pd.read_csv(\n",
    "    PATH,\n",
    "    iterator=True,\n",
    "    chunksize=my_chunk)\n",
    "# concatenate according to a filter to our result dataframe\n",
    "df_dec = pd.concat(\n",
    "    [chunk[chunk['price']>0]\n",
    "    for chunk in iter_csv])\n",
    "# print (df_dec)"
   ]
  },
  {
   "cell_type": "code",
   "execution_count": 146,
   "metadata": {
    "ExecuteTime": {
     "end_time": "2020-11-19T08:42:25.537349Z",
     "start_time": "2020-11-19T08:42:24.689367Z"
    }
   },
   "outputs": [],
   "source": [
    "# drop the missing values in user_session since there aren't too many values\n",
    "df_dec = df_dec.drop(df_dec[df_dec.user_session.isnull()].index)"
   ]
  },
  {
   "cell_type": "code",
   "execution_count": 147,
   "metadata": {
    "ExecuteTime": {
     "end_time": "2020-11-19T08:43:11.621769Z",
     "start_time": "2020-11-19T08:42:25.540120Z"
    }
   },
   "outputs": [],
   "source": [
    "# convert event_time to datetime\n",
    "df_dec['event_time'] = pd.to_datetime(df_dec['event_time'], \n",
    "                                       format='%Y-%m-%d %H:%M:%S %Z')"
   ]
  },
  {
   "cell_type": "code",
   "execution_count": 148,
   "metadata": {
    "ExecuteTime": {
     "end_time": "2020-11-19T08:43:11.694927Z",
     "start_time": "2020-11-19T08:43:11.623606Z"
    }
   },
   "outputs": [],
   "source": [
    "# drop the columns\n",
    "# df_oct = df_oct.drop(['product_id','category_id','category_code','brand','user_session'])\n",
    "new_dec = df_dec\n",
    "new_dec.drop(['product_id','category_id','category_code','brand','user_session'], axis='columns', inplace=True)"
   ]
  },
  {
   "cell_type": "code",
   "execution_count": 149,
   "metadata": {
    "ExecuteTime": {
     "end_time": "2020-11-19T08:43:15.221529Z",
     "start_time": "2020-11-19T08:43:11.696339Z"
    }
   },
   "outputs": [],
   "source": [
    "# get the max Invoice date\n",
    "max_date = max(df_dec['event_time'])\n",
    "# max_date"
   ]
  },
  {
   "cell_type": "code",
   "execution_count": 150,
   "metadata": {
    "ExecuteTime": {
     "end_time": "2020-11-19T08:43:15.331355Z",
     "start_time": "2020-11-19T08:43:15.222960Z"
    }
   },
   "outputs": [],
   "source": [
    "# Get how many days does the Invoice have that is done from the max Invoice\n",
    "new_dec.insert(4, \"Recency\", max_date-new_dec['event_time'], True) \n",
    "new_dec['Recency'] = new_dec['Recency'].dt.days"
   ]
  },
  {
   "cell_type": "code",
   "execution_count": 151,
   "metadata": {
    "ExecuteTime": {
     "end_time": "2020-11-19T08:43:15.334777Z",
     "start_time": "2020-11-19T08:43:15.332715Z"
    }
   },
   "outputs": [],
   "source": [
    "# new_dec.drop(['event_time'], axis='columns', inplace=True)"
   ]
  },
  {
   "cell_type": "code",
   "execution_count": 171,
   "metadata": {
    "ExecuteTime": {
     "end_time": "2020-11-19T09:00:38.451729Z",
     "start_time": "2020-11-19T09:00:38.047637Z"
    }
   },
   "outputs": [],
   "source": [
    "view_dec = new_dec.loc[new_dec.event_type=='view'].groupby(\n",
    "   ['user_id'],as_index=False\n",
    ").agg(\n",
    "    {\n",
    "         'event_type':\"count\",    # Sum duration per group\n",
    "         'Recency': \"max\",  # get the count of networks\n",
    "         'price': sum  # get the first date per group\n",
    "    }\n",
    ")\n",
    "view_dec.rename(columns = {'event_type':'view'}, inplace = True)\n",
    "# view_dec"
   ]
  },
  {
   "cell_type": "code",
   "execution_count": 172,
   "metadata": {
    "ExecuteTime": {
     "end_time": "2020-11-19T09:00:41.283136Z",
     "start_time": "2020-11-19T09:00:40.992165Z"
    }
   },
   "outputs": [],
   "source": [
    "cart_dec = new_dec.loc[new_dec.event_type=='cart'].groupby(\n",
    "   ['user_id'],as_index=False\n",
    ").agg(\n",
    "    {\n",
    "         'event_type':\"count\",    # Sum duration per group\n",
    "         'Recency': \"max\",  # get the count of networks\n",
    "         'price': sum  # get the first date per group\n",
    "    }\n",
    ")\n",
    "cart_dec.rename(columns = {'event_type':'cart'}, inplace = True)\n",
    "# cart_dec"
   ]
  },
  {
   "cell_type": "code",
   "execution_count": 162,
   "metadata": {
    "ExecuteTime": {
     "end_time": "2020-11-19T08:56:16.934956Z",
     "start_time": "2020-11-19T08:56:16.648163Z"
    }
   },
   "outputs": [],
   "source": [
    "rem_dec = new_dec.loc[new_dec.event_type=='remove_from_cart'].groupby(\n",
    "   ['user_id'],as_index=False\n",
    ").agg(\n",
    "    {\n",
    "         'event_type':\"count\",    # Sum duration per group\n",
    "         'Recency': \"max\",  # get the count of networks\n",
    "         'price': sum  # get the first date per group\n",
    "    }\n",
    ")\n",
    "rem_dec.rename(columns = {'event_type':'remove_from_cart'}, inplace = True)\n",
    "# rem_dec"
   ]
  },
  {
   "cell_type": "code",
   "execution_count": 159,
   "metadata": {
    "ExecuteTime": {
     "end_time": "2020-11-19T08:47:34.307906Z",
     "start_time": "2020-11-19T08:47:34.114512Z"
    }
   },
   "outputs": [],
   "source": [
    "pur_dec = new_dec.loc[new_dec.event_type=='purchase'].groupby(\n",
    "   ['user_id'],as_index=False\n",
    ").agg(\n",
    "    {\n",
    "         'event_type':\"count\",   \n",
    "         'Recency': \"max\", \n",
    "         'price': sum\n",
    "    }\n",
    ")\n",
    "pur_dec.rename(columns = {'event_type':'purchase'}, inplace = True)\n",
    "# pur_dec"
   ]
  },
  {
   "cell_type": "code",
   "execution_count": 207,
   "metadata": {
    "ExecuteTime": {
     "end_time": "2020-11-19T09:06:41.339391Z",
     "start_time": "2020-11-19T09:06:41.194761Z"
    }
   },
   "outputs": [
    {
     "data": {
      "text/html": [
       "<div>\n",
       "<style scoped>\n",
       "    .dataframe tbody tr th:only-of-type {\n",
       "        vertical-align: middle;\n",
       "    }\n",
       "\n",
       "    .dataframe tbody tr th {\n",
       "        vertical-align: top;\n",
       "    }\n",
       "\n",
       "    .dataframe thead th {\n",
       "        text-align: right;\n",
       "    }\n",
       "</style>\n",
       "<table border=\"1\" class=\"dataframe\">\n",
       "  <thead>\n",
       "    <tr style=\"text-align: right;\">\n",
       "      <th></th>\n",
       "      <th>user_id</th>\n",
       "      <th>view</th>\n",
       "      <th>cart</th>\n",
       "    </tr>\n",
       "  </thead>\n",
       "  <tbody>\n",
       "    <tr>\n",
       "      <th>0</th>\n",
       "      <td>1180452</td>\n",
       "      <td>1</td>\n",
       "      <td>0</td>\n",
       "    </tr>\n",
       "    <tr>\n",
       "      <th>1</th>\n",
       "      <td>2963072</td>\n",
       "      <td>17</td>\n",
       "      <td>7</td>\n",
       "    </tr>\n",
       "    <tr>\n",
       "      <th>2</th>\n",
       "      <td>4661182</td>\n",
       "      <td>3</td>\n",
       "      <td>2</td>\n",
       "    </tr>\n",
       "    <tr>\n",
       "      <th>3</th>\n",
       "      <td>4891613</td>\n",
       "      <td>1</td>\n",
       "      <td>0</td>\n",
       "    </tr>\n",
       "    <tr>\n",
       "      <th>4</th>\n",
       "      <td>6217356</td>\n",
       "      <td>1</td>\n",
       "      <td>0</td>\n",
       "    </tr>\n",
       "    <tr>\n",
       "      <th>...</th>\n",
       "      <td>...</td>\n",
       "      <td>...</td>\n",
       "      <td>...</td>\n",
       "    </tr>\n",
       "    <tr>\n",
       "      <th>357792</th>\n",
       "      <td>595413843</td>\n",
       "      <td>1</td>\n",
       "      <td>0</td>\n",
       "    </tr>\n",
       "    <tr>\n",
       "      <th>357793</th>\n",
       "      <td>595413976</td>\n",
       "      <td>1</td>\n",
       "      <td>0</td>\n",
       "    </tr>\n",
       "    <tr>\n",
       "      <th>357794</th>\n",
       "      <td>595414210</td>\n",
       "      <td>1</td>\n",
       "      <td>0</td>\n",
       "    </tr>\n",
       "    <tr>\n",
       "      <th>357795</th>\n",
       "      <td>595414257</td>\n",
       "      <td>1</td>\n",
       "      <td>0</td>\n",
       "    </tr>\n",
       "    <tr>\n",
       "      <th>357796</th>\n",
       "      <td>595414541</td>\n",
       "      <td>1</td>\n",
       "      <td>0</td>\n",
       "    </tr>\n",
       "  </tbody>\n",
       "</table>\n",
       "<p>357797 rows × 3 columns</p>\n",
       "</div>"
      ],
      "text/plain": [
       "          user_id  view cart\n",
       "0         1180452     1    0\n",
       "1         2963072    17    7\n",
       "2         4661182     3    2\n",
       "3         4891613     1    0\n",
       "4         6217356     1    0\n",
       "...           ...   ...  ...\n",
       "357792  595413843     1    0\n",
       "357793  595413976     1    0\n",
       "357794  595414210     1    0\n",
       "357795  595414257     1    0\n",
       "357796  595414541     1    0\n",
       "\n",
       "[357797 rows x 3 columns]"
      ]
     },
     "execution_count": 207,
     "metadata": {},
     "output_type": "execute_result"
    }
   ],
   "source": [
    "cust_dec = view_dec.merge(cart_dec, left_on='user_id', right_on='user_id', how='left')\n",
    "cust_dec = cust_dec.drop(['Recency_y','price_y','Recency_x','price_x'],1)\n",
    "cust_dec['cart'].fillna('0', inplace=True)\n",
    "# cust_dec"
   ]
  },
  {
   "cell_type": "code",
   "execution_count": 208,
   "metadata": {
    "ExecuteTime": {
     "end_time": "2020-11-19T09:06:41.462590Z",
     "start_time": "2020-11-19T09:06:41.341025Z"
    }
   },
   "outputs": [
    {
     "data": {
      "text/html": [
       "<div>\n",
       "<style scoped>\n",
       "    .dataframe tbody tr th:only-of-type {\n",
       "        vertical-align: middle;\n",
       "    }\n",
       "\n",
       "    .dataframe tbody tr th {\n",
       "        vertical-align: top;\n",
       "    }\n",
       "\n",
       "    .dataframe thead th {\n",
       "        text-align: right;\n",
       "    }\n",
       "</style>\n",
       "<table border=\"1\" class=\"dataframe\">\n",
       "  <thead>\n",
       "    <tr style=\"text-align: right;\">\n",
       "      <th></th>\n",
       "      <th>user_id</th>\n",
       "      <th>view</th>\n",
       "      <th>cart</th>\n",
       "      <th>remove_from_cart</th>\n",
       "    </tr>\n",
       "  </thead>\n",
       "  <tbody>\n",
       "    <tr>\n",
       "      <th>0</th>\n",
       "      <td>1180452</td>\n",
       "      <td>1</td>\n",
       "      <td>0</td>\n",
       "      <td>0</td>\n",
       "    </tr>\n",
       "    <tr>\n",
       "      <th>1</th>\n",
       "      <td>2963072</td>\n",
       "      <td>17</td>\n",
       "      <td>7</td>\n",
       "      <td>0</td>\n",
       "    </tr>\n",
       "    <tr>\n",
       "      <th>2</th>\n",
       "      <td>4661182</td>\n",
       "      <td>3</td>\n",
       "      <td>2</td>\n",
       "      <td>2</td>\n",
       "    </tr>\n",
       "    <tr>\n",
       "      <th>3</th>\n",
       "      <td>4891613</td>\n",
       "      <td>1</td>\n",
       "      <td>0</td>\n",
       "      <td>0</td>\n",
       "    </tr>\n",
       "    <tr>\n",
       "      <th>4</th>\n",
       "      <td>6217356</td>\n",
       "      <td>1</td>\n",
       "      <td>0</td>\n",
       "      <td>0</td>\n",
       "    </tr>\n",
       "    <tr>\n",
       "      <th>...</th>\n",
       "      <td>...</td>\n",
       "      <td>...</td>\n",
       "      <td>...</td>\n",
       "      <td>...</td>\n",
       "    </tr>\n",
       "    <tr>\n",
       "      <th>357792</th>\n",
       "      <td>595413843</td>\n",
       "      <td>1</td>\n",
       "      <td>0</td>\n",
       "      <td>0</td>\n",
       "    </tr>\n",
       "    <tr>\n",
       "      <th>357793</th>\n",
       "      <td>595413976</td>\n",
       "      <td>1</td>\n",
       "      <td>0</td>\n",
       "      <td>0</td>\n",
       "    </tr>\n",
       "    <tr>\n",
       "      <th>357794</th>\n",
       "      <td>595414210</td>\n",
       "      <td>1</td>\n",
       "      <td>0</td>\n",
       "      <td>0</td>\n",
       "    </tr>\n",
       "    <tr>\n",
       "      <th>357795</th>\n",
       "      <td>595414257</td>\n",
       "      <td>1</td>\n",
       "      <td>0</td>\n",
       "      <td>0</td>\n",
       "    </tr>\n",
       "    <tr>\n",
       "      <th>357796</th>\n",
       "      <td>595414541</td>\n",
       "      <td>1</td>\n",
       "      <td>0</td>\n",
       "      <td>0</td>\n",
       "    </tr>\n",
       "  </tbody>\n",
       "</table>\n",
       "<p>357797 rows × 4 columns</p>\n",
       "</div>"
      ],
      "text/plain": [
       "          user_id  view cart remove_from_cart\n",
       "0         1180452     1    0                0\n",
       "1         2963072    17    7                0\n",
       "2         4661182     3    2                2\n",
       "3         4891613     1    0                0\n",
       "4         6217356     1    0                0\n",
       "...           ...   ...  ...              ...\n",
       "357792  595413843     1    0                0\n",
       "357793  595413976     1    0                0\n",
       "357794  595414210     1    0                0\n",
       "357795  595414257     1    0                0\n",
       "357796  595414541     1    0                0\n",
       "\n",
       "[357797 rows x 4 columns]"
      ]
     },
     "execution_count": 208,
     "metadata": {},
     "output_type": "execute_result"
    }
   ],
   "source": [
    "cust_dec = cust_dec.merge(rem_dec, left_on='user_id', right_on='user_id', how='left')\n",
    "cust_dec = cust_dec.drop(['Recency','price'],1)\n",
    "cust_dec['remove_from_cart'].fillna('0', inplace=True)\n",
    "# cust_dec"
   ]
  },
  {
   "cell_type": "code",
   "execution_count": 209,
   "metadata": {
    "ExecuteTime": {
     "end_time": "2020-11-19T09:06:41.652690Z",
     "start_time": "2020-11-19T09:06:41.464262Z"
    }
   },
   "outputs": [
    {
     "data": {
      "text/html": [
       "<div>\n",
       "<style scoped>\n",
       "    .dataframe tbody tr th:only-of-type {\n",
       "        vertical-align: middle;\n",
       "    }\n",
       "\n",
       "    .dataframe tbody tr th {\n",
       "        vertical-align: top;\n",
       "    }\n",
       "\n",
       "    .dataframe thead th {\n",
       "        text-align: right;\n",
       "    }\n",
       "</style>\n",
       "<table border=\"1\" class=\"dataframe\">\n",
       "  <thead>\n",
       "    <tr style=\"text-align: right;\">\n",
       "      <th></th>\n",
       "      <th>user_id</th>\n",
       "      <th>view</th>\n",
       "      <th>cart</th>\n",
       "      <th>remove_from_cart</th>\n",
       "      <th>purchase</th>\n",
       "      <th>Recency</th>\n",
       "      <th>price</th>\n",
       "    </tr>\n",
       "  </thead>\n",
       "  <tbody>\n",
       "    <tr>\n",
       "      <th>0</th>\n",
       "      <td>1180452</td>\n",
       "      <td>1</td>\n",
       "      <td>0</td>\n",
       "      <td>0</td>\n",
       "      <td>0</td>\n",
       "      <td>0</td>\n",
       "      <td>0</td>\n",
       "    </tr>\n",
       "    <tr>\n",
       "      <th>1</th>\n",
       "      <td>2963072</td>\n",
       "      <td>17</td>\n",
       "      <td>7</td>\n",
       "      <td>0</td>\n",
       "      <td>0</td>\n",
       "      <td>0</td>\n",
       "      <td>0</td>\n",
       "    </tr>\n",
       "    <tr>\n",
       "      <th>2</th>\n",
       "      <td>4661182</td>\n",
       "      <td>3</td>\n",
       "      <td>2</td>\n",
       "      <td>2</td>\n",
       "      <td>0</td>\n",
       "      <td>0</td>\n",
       "      <td>0</td>\n",
       "    </tr>\n",
       "    <tr>\n",
       "      <th>3</th>\n",
       "      <td>4891613</td>\n",
       "      <td>1</td>\n",
       "      <td>0</td>\n",
       "      <td>0</td>\n",
       "      <td>0</td>\n",
       "      <td>0</td>\n",
       "      <td>0</td>\n",
       "    </tr>\n",
       "    <tr>\n",
       "      <th>4</th>\n",
       "      <td>6217356</td>\n",
       "      <td>1</td>\n",
       "      <td>0</td>\n",
       "      <td>0</td>\n",
       "      <td>0</td>\n",
       "      <td>0</td>\n",
       "      <td>0</td>\n",
       "    </tr>\n",
       "    <tr>\n",
       "      <th>...</th>\n",
       "      <td>...</td>\n",
       "      <td>...</td>\n",
       "      <td>...</td>\n",
       "      <td>...</td>\n",
       "      <td>...</td>\n",
       "      <td>...</td>\n",
       "      <td>...</td>\n",
       "    </tr>\n",
       "    <tr>\n",
       "      <th>357792</th>\n",
       "      <td>595413843</td>\n",
       "      <td>1</td>\n",
       "      <td>0</td>\n",
       "      <td>0</td>\n",
       "      <td>0</td>\n",
       "      <td>0</td>\n",
       "      <td>0</td>\n",
       "    </tr>\n",
       "    <tr>\n",
       "      <th>357793</th>\n",
       "      <td>595413976</td>\n",
       "      <td>1</td>\n",
       "      <td>0</td>\n",
       "      <td>0</td>\n",
       "      <td>0</td>\n",
       "      <td>0</td>\n",
       "      <td>0</td>\n",
       "    </tr>\n",
       "    <tr>\n",
       "      <th>357794</th>\n",
       "      <td>595414210</td>\n",
       "      <td>1</td>\n",
       "      <td>0</td>\n",
       "      <td>0</td>\n",
       "      <td>0</td>\n",
       "      <td>0</td>\n",
       "      <td>0</td>\n",
       "    </tr>\n",
       "    <tr>\n",
       "      <th>357795</th>\n",
       "      <td>595414257</td>\n",
       "      <td>1</td>\n",
       "      <td>0</td>\n",
       "      <td>0</td>\n",
       "      <td>0</td>\n",
       "      <td>0</td>\n",
       "      <td>0</td>\n",
       "    </tr>\n",
       "    <tr>\n",
       "      <th>357796</th>\n",
       "      <td>595414541</td>\n",
       "      <td>1</td>\n",
       "      <td>0</td>\n",
       "      <td>0</td>\n",
       "      <td>0</td>\n",
       "      <td>0</td>\n",
       "      <td>0</td>\n",
       "    </tr>\n",
       "  </tbody>\n",
       "</table>\n",
       "<p>357797 rows × 7 columns</p>\n",
       "</div>"
      ],
      "text/plain": [
       "          user_id  view cart remove_from_cart purchase Recency price\n",
       "0         1180452     1    0                0        0       0     0\n",
       "1         2963072    17    7                0        0       0     0\n",
       "2         4661182     3    2                2        0       0     0\n",
       "3         4891613     1    0                0        0       0     0\n",
       "4         6217356     1    0                0        0       0     0\n",
       "...           ...   ...  ...              ...      ...     ...   ...\n",
       "357792  595413843     1    0                0        0       0     0\n",
       "357793  595413976     1    0                0        0       0     0\n",
       "357794  595414210     1    0                0        0       0     0\n",
       "357795  595414257     1    0                0        0       0     0\n",
       "357796  595414541     1    0                0        0       0     0\n",
       "\n",
       "[357797 rows x 7 columns]"
      ]
     },
     "execution_count": 209,
     "metadata": {},
     "output_type": "execute_result"
    }
   ],
   "source": [
    "cust_dec = cust_dec.merge(pur_dec, left_on='user_id', right_on='user_id', how='left')\n",
    "# cust_dec = cust_dec.drop(['Recency','price'],1)\n",
    "cust_dec['purchase'].fillna('0', inplace=True)\n",
    "cust_dec['Recency'].fillna('0', inplace=True)\n",
    "cust_dec['price'].fillna('0', inplace=True)\n",
    "# cust_dec"
   ]
  }
 ],
 "metadata": {
  "hide_input": false,
  "kernelspec": {
   "display_name": "Python 3",
   "language": "python",
   "name": "python3"
  },
  "language_info": {
   "codemirror_mode": {
    "name": "ipython",
    "version": 3
   },
   "file_extension": ".py",
   "mimetype": "text/x-python",
   "name": "python",
   "nbconvert_exporter": "python",
   "pygments_lexer": "ipython3",
   "version": "3.8.5"
  },
  "toc": {
   "base_numbering": 1,
   "nav_menu": {},
   "number_sections": true,
   "sideBar": true,
   "skip_h1_title": false,
   "title_cell": "Table of Contents",
   "title_sidebar": "Contents",
   "toc_cell": false,
   "toc_position": {},
   "toc_section_display": true,
   "toc_window_display": false
  }
 },
 "nbformat": 4,
 "nbformat_minor": 4
}
