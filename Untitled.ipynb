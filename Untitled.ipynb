{
 "cells": [
  {
   "cell_type": "code",
   "execution_count": 1,
   "metadata": {
    "ExecuteTime": {
     "end_time": "2020-11-12T18:46:22.462598Z",
     "start_time": "2020-11-12T18:46:21.642685Z"
    }
   },
   "outputs": [],
   "source": [
    "# importing\n",
    "import pandas as pd\n",
    "import numpy as np\n",
    "# from pandas_profiling import ProfileReport\n",
    "from matplotlib import pyplot\n",
    "import matplotlib.pyplot as plt\n",
    "plt.figure(num=None, figsize=(10, 8), dpi=80, facecolor='w', edgecolor='k')\n",
    "import seaborn as sns; sns.set() # for plot styling\n",
    "from pandas.plotting import scatter_matrix\n",
    "import plotly.express as px\n",
    "import matplotlib.pyplot as plt\n",
    "%matplotlib inline\n",
    "from sklearn import preprocessing\n",
    "\n",
    "import seaborn as sns\n",
    "import warnings\n",
    "import plotly.graph_objects as go\n",
    "\n",
    "from sklearn.preprocessing import StandardScaler\n",
    "from sklearn.cluster import KMeans\n",
    "from sklearn.metrics import silhouette_score\n",
    "\n",
    "warnings.filterwarnings('ignore')"
   ]
  },
  {
   "cell_type": "code",
   "execution_count": 3,
   "metadata": {
    "ExecuteTime": {
     "end_time": "2020-11-13T08:14:25.669697Z",
     "start_time": "2020-11-13T08:14:25.557390Z"
    }
   },
   "outputs": [
    {
     "ename": "NameError",
     "evalue": "name 'py' is not defined",
     "output_type": "error",
     "traceback": [
      "\u001b[0;31m---------------------------------------------------------------------------\u001b[0m",
      "\u001b[0;31mNameError\u001b[0m                                 Traceback (most recent call last)",
      "\u001b[0;32m<ipython-input-3-d3ccfdc2720c>\u001b[0m in \u001b[0;36m<module>\u001b[0;34m\u001b[0m\n\u001b[1;32m      1\u001b[0m \u001b[0;31m# import plotly.plotly as py\u001b[0m\u001b[0;34m\u001b[0m\u001b[0;34m\u001b[0m\u001b[0;34m\u001b[0m\u001b[0m\n\u001b[1;32m      2\u001b[0m \u001b[0;32mfrom\u001b[0m \u001b[0mplotly\u001b[0m\u001b[0;34m.\u001b[0m\u001b[0mgraph_objs\u001b[0m \u001b[0;32mimport\u001b[0m \u001b[0;34m*\u001b[0m\u001b[0;34m\u001b[0m\u001b[0;34m\u001b[0m\u001b[0m\n\u001b[0;32m----> 3\u001b[0;31m \u001b[0mpy\u001b[0m\u001b[0;34m.\u001b[0m\u001b[0msign_in\u001b[0m\u001b[0;34m(\u001b[0m\u001b[0;34m'username'\u001b[0m\u001b[0;34m,\u001b[0m \u001b[0;34m'api_key'\u001b[0m\u001b[0;34m)\u001b[0m\u001b[0;34m\u001b[0m\u001b[0;34m\u001b[0m\u001b[0m\n\u001b[0m\u001b[1;32m      4\u001b[0m trace1 = {\n\u001b[1;32m      5\u001b[0m   \u001b[0;34m\"mode\"\u001b[0m\u001b[0;34m:\u001b[0m \u001b[0;34m\"markers\"\u001b[0m\u001b[0;34m,\u001b[0m\u001b[0;34m\u001b[0m\u001b[0;34m\u001b[0m\u001b[0m\n",
      "\u001b[0;31mNameError\u001b[0m: name 'py' is not defined"
     ]
    }
   ],
   "source": [
    "import plotly.plotly as py\n",
    "from plotly.graph_objs import *\n",
    "py.sign_in('username', 'api_key')\n",
    "trace1 = {\n",
    "  \"mode\": \"markers\", \n",
    "  \"type\": \"scatter\", \n",
    "  \"x\": [-0.5040838240910367, 0.555704510499119, -0.06511245671928416, 2.4034904444247593, -1.0369109849320284, -1.0320226623555055, 0.32106502682602156, 0.5478831943766822, -1.044732301054465, -0.14528094697425906], \n",
    "  \"y\": [-0.5275383292089593, 0.18079378956416914, 0.7858461093073571, 0.6284389718022174, -0.4488347604563895, -1.4719811542397974, -0.9997597417243783, -1.8654989980026464, -0.3701311917038197, 4.088665304662248], \n",
    "  \"marker\": {\n",
    "    \"line\": {\"width\": 1}, \n",
    "    \"size\": 20, \n",
    "    \"opacity\": 0.3\n",
    "  }, \n",
    "  \"text\": [\"Bendayan, Daniel\", \"Grados, Jimena\", \"Jimenez, Charo\", \"Lirola, Vita\", \"Manrique, Christian\", \"Medina, Pablo\", \"Orts, Ana\", \"Palmero, Pilar\", \"Scafaru, Damaris\", \"Suárez, Santiago\"]\n",
    "}\n",
    "data = Data([trace1])\n",
    "layout = {\n",
    "  \"title\": \"Engagement-Knowledge Quadrant (UP, RIGHT is BETTER). 23th-February-2018-MarketingDigital.2018.02\", \n",
    "  \"width\": 1000, \n",
    "  \"xaxis\": {\n",
    "    \"range\": [-5, 5], \n",
    "    \"title\": \"Engagement\", \n",
    "    \"ticklen\": 5, \n",
    "    \"gridwidth\": 2\n",
    "  }, \n",
    "  \"yaxis\": {\n",
    "    \"range\": [-5, 5], \n",
    "    \"title\": \"Knowledge\", \n",
    "    \"ticklen\": 5, \n",
    "    \"gridwidth\": 2\n",
    "  }, \n",
    "  \"height\": 600, \n",
    "  \"hovermode\": \"closest\", \n",
    "  \"showlegend\": False\n",
    "}\n",
    "fig = Figure(data=data, layout=layout)\n",
    "plot_url = py.plot(fig)"
   ]
  }
 ],
 "metadata": {
  "hide_input": false,
  "kernelspec": {
   "display_name": "Python 3",
   "language": "python",
   "name": "python3"
  },
  "language_info": {
   "codemirror_mode": {
    "name": "ipython",
    "version": 3
   },
   "file_extension": ".py",
   "mimetype": "text/x-python",
   "name": "python",
   "nbconvert_exporter": "python",
   "pygments_lexer": "ipython3",
   "version": "3.8.5"
  },
  "toc": {
   "base_numbering": 1,
   "nav_menu": {},
   "number_sections": true,
   "sideBar": true,
   "skip_h1_title": false,
   "title_cell": "Table of Contents",
   "title_sidebar": "Contents",
   "toc_cell": false,
   "toc_position": {},
   "toc_section_display": true,
   "toc_window_display": false
  }
 },
 "nbformat": 4,
 "nbformat_minor": 4
}
